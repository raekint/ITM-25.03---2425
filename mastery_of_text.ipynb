{
 "cells": [
  {
   "cell_type": "code",
   "execution_count": 17,
   "id": "77bb8e9a-c7f2-4044-8b47-763cfa41a199",
   "metadata": {},
   "outputs": [
    {
     "name": "stdout",
     "output_type": "stream",
     "text": [
      "The number of lines is 99968\n"
     ]
    }
   ],
   "source": [
    "import urllib.request\n",
    "\n",
    "text = urllib.request.urlopen('https://www.gutenberg.org/cache/epub/10/pg10.txt')\n",
    "pg10 = text.read().decode('utf-8')\n",
    "\n",
    "print(\"The number of lines is\", len(pg10.splitlines()))"
   ]
  },
  {
   "cell_type": "code",
   "execution_count": 21,
   "id": "19b19e32-83bc-4dee-b49f-f5ec16ac9797",
   "metadata": {},
   "outputs": [
    {
     "name": "stdout",
     "output_type": "stream",
     "text": [
      "The number of words is 775243\n"
     ]
    }
   ],
   "source": [
    "word_count = len(pg10.split())\n",
    "actual_words = 0\n",
    "i = 0\n",
    "while i < len(pg10) - 1:\n",
    "    if len(single_word) > 1:\n",
    "        if pg10[i].isalpha() and pg10[i+1].isalpha():\n",
    "            actual_words += 1\n",
    "            while i < len(pg10) -1 and pg10[i].isalpha():\n",
    "                i += 1\n",
    "        else: \n",
    "            i += 1\n",
    "\n",
    "print(\"The number of words is\", actual_words)"
   ]
  },
  {
   "cell_type": "code",
   "execution_count": 39,
   "id": "0422ca36-f80b-466a-940e-02546c9117cb",
   "metadata": {},
   "outputs": [
    {
     "name": "stdout",
     "output_type": "stream",
     "text": [
      "The number of times the word \"apostle\" can be found is 47\n"
     ]
    }
   ],
   "source": [
    "word_find = \"apostle\"\n",
    "found_words = 0\n",
    "current_word = \"\"\n",
    "\n",
    "for letter in pg10.lower():\n",
    "    if letter.isalpha():\n",
    "        current_word += letter\n",
    "    else:\n",
    "        if current_word == word_find:\n",
    "            found_words += 1\n",
    "        current_word = \"\"\n",
    "if current_word == word_find:\n",
    "    found_words += 1\n",
    "\n",
    "print('The number of times the word \"apostle\" can be found is', found_words)"
   ]
  },
  {
   "cell_type": "code",
   "execution_count": 35,
   "id": "4d760e71-139c-4fc3-ac7f-5bf6a0e6ea3c",
   "metadata": {},
   "outputs": [
    {
     "name": "stdout",
     "output_type": "stream",
     "text": [
      "The most common word is \" the \" which appears a total of 64309\n"
     ]
    }
   ],
   "source": [
    "dict_of_words = {}\n",
    "word_entry = \"\"\n",
    "\n",
    "for letter in pg10.lower():\n",
    "    if letter.isalpha():\n",
    "        word_entry += letter\n",
    "    else:\n",
    "        if word_entry in dict_of_words:\n",
    "            dict_of_words[word_entry] += 1\n",
    "        elif word_entry == \"\":\n",
    "            word_entry = \"\"\n",
    "        else:\n",
    "            dict_of_words[word_entry] = 1\n",
    "        word_entry = \"\"\n",
    "        \n",
    "if current_word in dict_of_words:\n",
    "    dict_of_words[word_entry] += 1\n",
    "else:\n",
    "    dict_of_words[word_entry] = 1\n",
    "\n",
    "mcw = max(dict_of_words, key = dict_of_words.get)\n",
    "mcw_count = dict_of_words[mcw]\n",
    "\n",
    "print('The most common word is \"', mcw, '\" which appears a total of', mcw_count)"
   ]
  },
  {
   "cell_type": "code",
   "execution_count": null,
   "id": "fa4e8d76-6529-408a-9b8c-135d9dbcd278",
   "metadata": {},
   "outputs": [],
   "source": []
  }
 ],
 "metadata": {
  "kernelspec": {
   "display_name": "Python 3 (ipykernel)",
   "language": "python",
   "name": "python3"
  },
  "language_info": {
   "codemirror_mode": {
    "name": "ipython",
    "version": 3
   },
   "file_extension": ".py",
   "mimetype": "text/x-python",
   "name": "python",
   "nbconvert_exporter": "python",
   "pygments_lexer": "ipython3",
   "version": "3.11.7"
  }
 },
 "nbformat": 4,
 "nbformat_minor": 5
}
